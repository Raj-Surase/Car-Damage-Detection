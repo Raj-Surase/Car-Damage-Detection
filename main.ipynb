{
 "cells": [
  {
   "cell_type": "markdown",
   "id": "0ed4baa1",
   "metadata": {},
   "source": [
    "# Car Damage Detection"
   ]
  },
  {
   "cell_type": "markdown",
   "id": "3e29db0d",
   "metadata": {},
   "source": [
    "### Imports"
   ]
  },
  {
   "cell_type": "code",
   "execution_count": 1,
   "id": "87bb81b5",
   "metadata": {},
   "outputs": [],
   "source": [
    "import os\n",
    "import torch\n",
    "from torchvision import datasets, transforms\n",
    "from torch.utils.data import DataLoader\n",
    "\n",
    "import torch.nn as nn\n",
    "from torchvision.models import resnet18\n",
    "\n",
    "import torch.optim as optim"
   ]
  },
  {
   "cell_type": "markdown",
   "id": "ca6566a7",
   "metadata": {},
   "source": [
    "### Data Preparation\n",
    "\n",
    "- Load data\n",
    "- Label Encoding"
   ]
  },
  {
   "cell_type": "code",
   "execution_count": 2,
   "id": "b88b7208",
   "metadata": {},
   "outputs": [
    {
     "name": "stdout",
     "output_type": "stream",
     "text": [
      "Classes: ['00-damage', '01-whole']\n"
     ]
    }
   ],
   "source": [
    "### Paths to dataset\n",
    "train_dir = 'dataset/training/'\n",
    "val_dir = 'dataset/validation/'\n",
    "\n",
    "### Transformations for loading images\n",
    "### Resizing images to 224X224\n",
    "### Converting images to tensors\n",
    "base_transform = transforms.Compose([\n",
    "    transforms.Resize((224, 224)),\n",
    "    transforms.ToTensor()\n",
    "])\n",
    "\n",
    "### Load datasets\n",
    "train_dataset = datasets.ImageFolder(train_dir, transform=base_transform)\n",
    "val_dataset = datasets.ImageFolder(val_dir, transform=base_transform)\n",
    "\n",
    "### Create data loaders\n",
    "train_loader = DataLoader(train_dataset, batch_size=32, shuffle=True)\n",
    "val_loader = DataLoader(val_dataset, batch_size=32, shuffle=False)\n",
    "\n",
    "### Label encoding (0: damaged, 1: whole)\n",
    "class_names = train_dataset.classes\n",
    "print(f'Classes: {class_names}')"
   ]
  },
  {
   "cell_type": "markdown",
   "id": "ae890ebb",
   "metadata": {},
   "source": [
    "### Data Preprocessing\n",
    "\n",
    "- Resize Images\n",
    "- Normalize\n",
    "- Augmentation"
   ]
  },
  {
   "cell_type": "code",
   "execution_count": 3,
   "id": "fd69f639",
   "metadata": {},
   "outputs": [],
   "source": [
    "# Define training transformations with augmentation\n",
    "train_transform = transforms.Compose([\n",
    "    transforms.Resize((224, 224)),\n",
    "    transforms.RandomHorizontalFlip(),  # Random horizontal flip\n",
    "    transforms.RandomRotation(10),      # Random rotation up to 10 degrees\n",
    "    transforms.ColorJitter(brightness=0.2, contrast=0.2),  # Random brightness/contrast\n",
    "    transforms.ToTensor(),\n",
    "    transforms.Normalize(mean=[0.485, 0.456, 0.406],  # Standard normalization for ResNet\n",
    "                         std=[0.229, 0.224, 0.225])\n",
    "])\n",
    "\n",
    "# Update train dataset with augmented transforms\n",
    "train_dataset.transform = train_transform\n",
    "\n",
    "# Validation transform (no augmentation, only normalization)\n",
    "val_transform = transforms.Compose([\n",
    "    transforms.Resize((224, 224)),\n",
    "    transforms.ToTensor(),\n",
    "    transforms.Normalize(mean=[0.485, 0.456, 0.406],\n",
    "                         std=[0.229, 0.224, 0.225])\n",
    "])\n",
    "\n",
    "# Update validation dataset\n",
    "val_dataset.transform = val_transform"
   ]
  },
  {
   "cell_type": "markdown",
   "id": "31816426",
   "metadata": {},
   "source": [
    "### Model: ResNet18 (Transfer Learning)\n",
    "\n",
    "- Load pre-trained ResNet18.\n",
    "- Replace final layer with binary output."
   ]
  },
  {
   "cell_type": "code",
   "execution_count": null,
   "id": "fdcc632c",
   "metadata": {},
   "outputs": [
    {
     "name": "stderr",
     "output_type": "stream",
     "text": [
      "d:\\Projects\\AI\\Car-Damage-Detection\\.venv\\lib\\site-packages\\torchvision\\models\\_utils.py:208: UserWarning: The parameter 'pretrained' is deprecated since 0.13 and may be removed in the future, please use 'weights' instead.\n",
      "  warnings.warn(\n",
      "d:\\Projects\\AI\\Car-Damage-Detection\\.venv\\lib\\site-packages\\torchvision\\models\\_utils.py:223: UserWarning: Arguments other than a weight enum or `None` for 'weights' are deprecated since 0.13 and may be removed in the future. The current behavior is equivalent to passing `weights=ResNet18_Weights.IMAGENET1K_V1`. You can also use `weights=ResNet18_Weights.DEFAULT` to get the most up-to-date weights.\n",
      "  warnings.warn(msg)\n"
     ]
    }
   ],
   "source": [
    "# Load pre-trained ResNet18\n",
    "model = resnet18(pretrained=True)\n",
    "\n",
    "# Modify the final layer for binary classification (2 classes: damaged, whole)\n",
    "num_ftrs = model.fc.in_features\n",
    "model.fc = nn.Linear(num_ftrs, 2)\n",
    "\n",
    "# Move model to GPU if available\n",
    "device = torch.device('cuda' if torch.cuda.is_available() else 'cpu')\n",
    "model = model.to(device)"
   ]
  },
  {
   "cell_type": "markdown",
   "id": "d23ba70b",
   "metadata": {},
   "source": [
    "### Training\n",
    "- Train the model with a optimizer and loss function.\n"
   ]
  },
  {
   "cell_type": "code",
   "execution_count": 6,
   "id": "8f614bee",
   "metadata": {},
   "outputs": [
    {
     "name": "stdout",
     "output_type": "stream",
     "text": [
      "Epoch [1/10], Loss: 0.2974, Accuracy: 88.42%\n",
      "Epoch [2/10], Loss: 0.2193, Accuracy: 91.74%\n",
      "Epoch [3/10], Loss: 0.2145, Accuracy: 92.07%\n",
      "Epoch [4/10], Loss: 0.1618, Accuracy: 93.80%\n",
      "Epoch [5/10], Loss: 0.1665, Accuracy: 93.75%\n",
      "Epoch [6/10], Loss: 0.1509, Accuracy: 94.13%\n",
      "Epoch [7/10], Loss: 0.1489, Accuracy: 94.02%\n",
      "Epoch [8/10], Loss: 0.1137, Accuracy: 95.98%\n",
      "Epoch [9/10], Loss: 0.1299, Accuracy: 94.89%\n",
      "Epoch [10/10], Loss: 0.1317, Accuracy: 94.62%\n"
     ]
    }
   ],
   "source": [
    "# Define loss function and optimizer\n",
    "criterion = nn.CrossEntropyLoss()\n",
    "optimizer = optim.Adam(model.parameters(), lr=0.001)\n",
    "\n",
    "# Training loop\n",
    "num_epochs = 10\n",
    "for epoch in range(num_epochs):\n",
    "    model.train()\n",
    "    running_loss = 0.0\n",
    "    correct = 0\n",
    "    total = 0\n",
    "    \n",
    "    for images, labels in train_loader:\n",
    "        images, labels = images.to(device), labels.to(device)\n",
    "        \n",
    "        # Zero the gradients\n",
    "        optimizer.zero_grad()\n",
    "        \n",
    "        # Forward pass\n",
    "        outputs = model(images)\n",
    "        loss = criterion(outputs, labels)\n",
    "        \n",
    "        # Backward pass and optimize\n",
    "        loss.backward()\n",
    "        optimizer.step()\n",
    "        \n",
    "        # Accumulate loss\n",
    "        running_loss += loss.item() * images.size(0)\n",
    "        \n",
    "        # Calculate accuracy\n",
    "        _, predicted = torch.max(outputs, 1)\n",
    "        total += labels.size(0)\n",
    "        correct += (predicted == labels).sum().item()\n",
    "    \n",
    "    # Calculate epoch loss & accuracy\n",
    "    epoch_loss = running_loss / len(train_dataset)\n",
    "    epoch_acc = 100 * correct / total\n",
    "    print(f'Epoch [{epoch+1}/{num_epochs}], Loss: {epoch_loss:.4f}, Accuracy: {epoch_acc:.2f}%')\n",
    "\n",
    "# Save the trained model\n",
    "torch.save(model.state_dict(), 'car_damage_model.pth')\n"
   ]
  },
  {
   "cell_type": "markdown",
   "id": "327795c5",
   "metadata": {},
   "source": [
    "## 5. Evaluation\n",
    "- Evaluate the model on the validation set."
   ]
  },
  {
   "cell_type": "code",
   "execution_count": null,
   "id": "0d3f317b",
   "metadata": {},
   "outputs": [
    {
     "name": "stdout",
     "output_type": "stream",
     "text": [
      "Validation Accuracy: 92.61%\n"
     ]
    }
   ],
   "source": [
    "# Evaluate the model\n",
    "model.eval()\n",
    "correct = 0\n",
    "total = 0\n",
    "with torch.no_grad():\n",
    "    for images, labels in val_loader:\n",
    "        images, labels = images.to(device), labels.to(device)\n",
    "        outputs = model(images)\n",
    "        _, predicted = torch.max(outputs.data, 1)\n",
    "        total += labels.size(0)\n",
    "        correct += (predicted == labels).sum().item()\n",
    "\n",
    "accuracy = 100 * correct / total\n",
    "print(f'Validation Accuracy: {accuracy:.2f}%')"
   ]
  },
  {
   "cell_type": "markdown",
   "id": "5e0ccad8",
   "metadata": {},
   "source": [
    "## 6. Test"
   ]
  },
  {
   "cell_type": "code",
   "execution_count": null,
   "id": "3a9aa1dd",
   "metadata": {},
   "outputs": [
    {
     "name": "stdout",
     "output_type": "stream",
     "text": [
      "The image is classified as: 01-whole\n"
     ]
    }
   ],
   "source": [
    "from PIL import Image\n",
    "\n",
    "# Define the same transformation as validation\n",
    "test_transform = transforms.Compose([\n",
    "    transforms.Resize((224, 224)),\n",
    "    transforms.ToTensor(),\n",
    "    transforms.Normalize(mean=[0.485, 0.456, 0.406],\n",
    "                         std=[0.229, 0.224, 0.225])\n",
    "])\n",
    "\n",
    "# Function to test a single image\n",
    "def classify_image(image_path):\n",
    "    # Load the image\n",
    "    image = Image.open(image_path).convert('RGB')\n",
    "    \n",
    "    # Apply transformations\n",
    "    image = test_transform(image)\n",
    "    image = image.unsqueeze(0)  # Add batch dimension\n",
    "    \n",
    "    # Move image to device\n",
    "    image = image.to(device)\n",
    "    \n",
    "    # Set model to evaluation mode\n",
    "    model.eval()\n",
    "    with torch.no_grad():\n",
    "        output = model(image)\n",
    "        _, predicted = torch.max(output, 1)\n",
    "        \n",
    "    # Get the predicted class\n",
    "    predicted_class = class_names[predicted.item()]\n",
    "    return predicted_class\n",
    "\n",
    "# Example usage: Replace 'path/to/your/image.jpg' with the actual image path\n",
    "image_path = 'D:\\Projects\\AI\\Car-Damage-Detection\\dataset\\\\testing\\\\01-whole\\\\0005.jpg'\n",
    "result = classify_image(image_path)\n",
    "print(f'The image is classified as: {result}')"
   ]
  },
  {
   "cell_type": "code",
   "execution_count": null,
   "id": "476ad599",
   "metadata": {},
   "outputs": [
    {
     "name": "stdout",
     "output_type": "stream",
     "text": [
      "* Running on local URL:  http://127.0.0.1:7861\n",
      "* To create a public link, set `share=True` in `launch()`.\n"
     ]
    },
    {
     "data": {
      "text/html": [
       "<div><iframe src=\"http://127.0.0.1:7861/\" width=\"100%\" height=\"500\" allow=\"autoplay; camera; microphone; clipboard-read; clipboard-write;\" frameborder=\"0\" allowfullscreen></iframe></div>"
      ],
      "text/plain": [
       "<IPython.core.display.HTML object>"
      ]
     },
     "metadata": {},
     "output_type": "display_data"
    },
    {
     "data": {
      "text/plain": []
     },
     "execution_count": 8,
     "metadata": {},
     "output_type": "execute_result"
    },
    {
     "name": "stderr",
     "output_type": "stream",
     "text": [
      "Traceback (most recent call last):\n",
      "  File \"d:\\Projects\\AI\\Car-Damage-Detection\\.venv\\lib\\site-packages\\gradio\\queueing.py\", line 626, in process_events\n",
      "    response = await route_utils.call_process_api(\n",
      "  File \"d:\\Projects\\AI\\Car-Damage-Detection\\.venv\\lib\\site-packages\\gradio\\route_utils.py\", line 350, in call_process_api\n",
      "    output = await app.get_blocks().process_api(\n",
      "  File \"d:\\Projects\\AI\\Car-Damage-Detection\\.venv\\lib\\site-packages\\gradio\\blocks.py\", line 2250, in process_api\n",
      "    result = await self.call_function(\n",
      "  File \"d:\\Projects\\AI\\Car-Damage-Detection\\.venv\\lib\\site-packages\\gradio\\blocks.py\", line 1757, in call_function\n",
      "    prediction = await anyio.to_thread.run_sync(  # type: ignore\n",
      "  File \"d:\\Projects\\AI\\Car-Damage-Detection\\.venv\\lib\\site-packages\\anyio\\to_thread.py\", line 56, in run_sync\n",
      "    return await get_async_backend().run_sync_in_worker_thread(\n",
      "  File \"d:\\Projects\\AI\\Car-Damage-Detection\\.venv\\lib\\site-packages\\anyio\\_backends\\_asyncio.py\", line 2476, in run_sync_in_worker_thread\n",
      "    return await future\n",
      "  File \"d:\\Projects\\AI\\Car-Damage-Detection\\.venv\\lib\\site-packages\\anyio\\_backends\\_asyncio.py\", line 967, in run\n",
      "    result = context.run(func, *args)\n",
      "  File \"d:\\Projects\\AI\\Car-Damage-Detection\\.venv\\lib\\site-packages\\gradio\\utils.py\", line 917, in wrapper\n",
      "    response = f(*args, **kwargs)\n",
      "  File \"C:\\Users\\rajsu\\AppData\\Local\\Temp\\ipykernel_19328\\36118430.py\", line 10, in classify_image_gradio\n",
      "    img_tensor = test_transform(image).unsqueeze(0).to(device)\n",
      "NameError: name 'test_transform' is not defined. Did you mean: 'base_transform'?\n",
      "Traceback (most recent call last):\n",
      "  File \"d:\\Projects\\AI\\Car-Damage-Detection\\.venv\\lib\\site-packages\\gradio\\queueing.py\", line 626, in process_events\n",
      "    response = await route_utils.call_process_api(\n",
      "  File \"d:\\Projects\\AI\\Car-Damage-Detection\\.venv\\lib\\site-packages\\gradio\\route_utils.py\", line 350, in call_process_api\n",
      "    output = await app.get_blocks().process_api(\n",
      "  File \"d:\\Projects\\AI\\Car-Damage-Detection\\.venv\\lib\\site-packages\\gradio\\blocks.py\", line 2250, in process_api\n",
      "    result = await self.call_function(\n",
      "  File \"d:\\Projects\\AI\\Car-Damage-Detection\\.venv\\lib\\site-packages\\gradio\\blocks.py\", line 1757, in call_function\n",
      "    prediction = await anyio.to_thread.run_sync(  # type: ignore\n",
      "  File \"d:\\Projects\\AI\\Car-Damage-Detection\\.venv\\lib\\site-packages\\anyio\\to_thread.py\", line 56, in run_sync\n",
      "    return await get_async_backend().run_sync_in_worker_thread(\n",
      "  File \"d:\\Projects\\AI\\Car-Damage-Detection\\.venv\\lib\\site-packages\\anyio\\_backends\\_asyncio.py\", line 2476, in run_sync_in_worker_thread\n",
      "    return await future\n",
      "  File \"d:\\Projects\\AI\\Car-Damage-Detection\\.venv\\lib\\site-packages\\anyio\\_backends\\_asyncio.py\", line 967, in run\n",
      "    result = context.run(func, *args)\n",
      "  File \"d:\\Projects\\AI\\Car-Damage-Detection\\.venv\\lib\\site-packages\\gradio\\utils.py\", line 917, in wrapper\n",
      "    response = f(*args, **kwargs)\n",
      "  File \"C:\\Users\\rajsu\\AppData\\Local\\Temp\\ipykernel_19328\\36118430.py\", line 10, in classify_image_gradio\n",
      "    img_tensor = test_transform(image).unsqueeze(0).to(device)\n",
      "NameError: name 'test_transform' is not defined. Did you mean: 'base_transform'?\n"
     ]
    }
   ],
   "source": [
    "import gradio as gr\n",
    "from PIL import Image\n",
    "\n",
    "# Wrapper for Gradio to handle uploaded images directly (not just file paths)\n",
    "def classify_image_gradio(image):\n",
    "    # Convert NumPy array to PIL\n",
    "    image = Image.fromarray(image).convert(\"RGB\")\n",
    "    \n",
    "    # Apply transformations\n",
    "    img_tensor = test_transform(image).unsqueeze(0).to(device)\n",
    "\n",
    "    # Predict\n",
    "    model.eval()\n",
    "    with torch.no_grad():\n",
    "        output = model(img_tensor)\n",
    "        _, predicted = torch.max(output, 1)\n",
    "\n",
    "    return class_names[predicted.item()]\n",
    "\n",
    "# Create and launch Gradio interface\n",
    "iface = gr.Interface(\n",
    "    fn=classify_image_gradio,\n",
    "    inputs=gr.Image(type=\"numpy\"),\n",
    "    outputs=\"text\",\n",
    "    title=\"Car Damage Classifier\",\n",
    "    description=\"Upload an image of a car to determine if it is damaged or whole.\"\n",
    ")\n",
    "\n",
    "iface.launch()\n"
   ]
  }
 ],
 "metadata": {
  "kernelspec": {
   "display_name": ".venv",
   "language": "python",
   "name": "python3"
  },
  "language_info": {
   "codemirror_mode": {
    "name": "ipython",
    "version": 3
   },
   "file_extension": ".py",
   "mimetype": "text/x-python",
   "name": "python",
   "nbconvert_exporter": "python",
   "pygments_lexer": "ipython3",
   "version": "3.10.0"
  }
 },
 "nbformat": 4,
 "nbformat_minor": 5
}
